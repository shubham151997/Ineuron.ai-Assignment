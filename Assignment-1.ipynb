{
 "cells": [
  {
   "cell_type": "code",
   "execution_count": null,
   "id": "67ddf744",
   "metadata": {},
   "outputs": [],
   "source": [
    "1. In the below elements which of them are values or an expression? eg:- values can be\n",
    "integer or string and expressions will be mathematical operators.\n",
    "\n",
    "*       = Expression\n",
    "'hello' = String\n",
    "-87.8   = Float\n",
    "-       = Expression\n",
    "/       = Expression\n",
    "+       = Expression\n",
    "6       = Integer\n",
    "\n",
    "      "
   ]
  },
  {
   "cell_type": "code",
   "execution_count": null,
   "id": "880a7e74",
   "metadata": {},
   "outputs": [],
   "source": [
    "2. What is the difference between string and variable?\n",
    "\n",
    "Ans : 1. Variable : It's a one king of container, in this we are storing some information in the form of string, integer, float etc.\n",
    "2. String : It's a type of data type and information which we are storing in the variable.\n",
    "\n",
    "Example : Name : \"Shubham\"\n",
    "Here name is Variable & Shubham is a string."
   ]
  },
  {
   "cell_type": "code",
   "execution_count": null,
   "id": "4ff55dac",
   "metadata": {},
   "outputs": [],
   "source": [
    "3. Describe three different data types.\n",
    "\n",
    "Ans : 1. String\n",
    "      2. Integer\n",
    "      3. Flot\n",
    "      "
   ]
  },
  {
   "cell_type": "code",
   "execution_count": null,
   "id": "bd5e7481",
   "metadata": {},
   "outputs": [],
   "source": [
    "4. What is an expression made up of? What do all expressions do?\n",
    "\n",
    "Ans : Expression is an operator with the help of this we can perform some mathamatical operations.\n"
   ]
  },
  {
   "cell_type": "code",
   "execution_count": null,
   "id": "272daca1",
   "metadata": {},
   "outputs": [],
   "source": [
    "5. This assignment statements, like spam = 10. What is the difference between an\n",
    "expression and a statement?\n",
    "\n",
    "Ans : Expression perform matamatical operation and gives us some resul.\n",
    "Assignment statement store the values here spam is a int variable which has value of 10."
   ]
  },
  {
   "cell_type": "code",
   "execution_count": null,
   "id": "a09d358a",
   "metadata": {},
   "outputs": [],
   "source": [
    "6. After running the following code, what does the variable bacon contain?\n",
    "bacon = 22\n",
    "bacon + 1\n",
    "\n",
    "\"bacon will contain 22 (integer)\"\n"
   ]
  },
  {
   "cell_type": "code",
   "execution_count": null,
   "id": "0652e0cd",
   "metadata": {},
   "outputs": [],
   "source": [
    "7. What should the values of the following two terms be?\n",
    "'spam' + 'spamspam'\n",
    "'spam'; * 3\n",
    "\n",
    "both will give same answer as 'spamspamspam'"
   ]
  },
  {
   "cell_type": "code",
   "execution_count": null,
   "id": "5ff56b4e",
   "metadata": {},
   "outputs": [],
   "source": [
    "8. Why is eggs a valid variable name while 100 is invalid?\n",
    "\n",
    "\"100 is an int value and int value can't be used to define a variable name\""
   ]
  },
  {
   "cell_type": "code",
   "execution_count": null,
   "id": "4478ed4b",
   "metadata": {},
   "outputs": [],
   "source": [
    "9. What three functions can be used to get the integer, floating-point number, or string\n",
    "version of a value?\n",
    "\n",
    "int()\n",
    "str()\n",
    "float() "
   ]
  },
  {
   "cell_type": "code",
   "execution_count": null,
   "id": "deb437b2",
   "metadata": {},
   "outputs": [],
   "source": [
    "10. Why does this expression cause an error? How can you fix it?\n",
    "'I have eaten' + 99 +  'burritos.'\n",
    "\n",
    "\n",
    "Ans : Here we are trying to add string with integer value it will throw an exception named as TypeError.\n",
    "Currect code is as below.\n",
    "'I have eaten' + '99' +  'burritos.'"
   ]
  }
 ],
 "metadata": {
  "kernelspec": {
   "display_name": "Python 3 (ipykernel)",
   "language": "python",
   "name": "python3"
  },
  "language_info": {
   "codemirror_mode": {
    "name": "ipython",
    "version": 3
   },
   "file_extension": ".py",
   "mimetype": "text/x-python",
   "name": "python",
   "nbconvert_exporter": "python",
   "pygments_lexer": "ipython3",
   "version": "3.9.12"
  }
 },
 "nbformat": 4,
 "nbformat_minor": 5
}
