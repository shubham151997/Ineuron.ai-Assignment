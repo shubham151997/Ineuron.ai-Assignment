{
 "cells": [
  {
   "cell_type": "raw",
   "id": "8820d8cf",
   "metadata": {},
   "source": [
    "1. In the below elements which of them are values or an expression? eg:- values can be\n",
    "integer or string and expressions will be mathematical operators.\n",
    "\n",
    "*       = Expression\n",
    "'hello' = String\n",
    "-87.8   = Float\n",
    "-       = Expression\n",
    "/       = Expression\n",
    "+       = Expression\n",
    "6       = Integer\n",
    "\n",
    "      "
   ]
  },
  {
   "cell_type": "raw",
   "id": "840b1b0d",
   "metadata": {},
   "source": [
    "2. What is the difference between string and variable?\n",
    "\n",
    "Ans : 1. Variable : It's a one king of container, in this we are storing some information in the form of string, integer, float etc.\n",
    "2. String : It's a type of data type and information which we are storing in the variable.\n",
    "\n",
    "Example : Name : \"Shubham\"\n",
    "Here name is Variable & Shubham is a string."
   ]
  },
  {
   "cell_type": "raw",
   "id": "7b8e5e6a",
   "metadata": {},
   "source": [
    "3. Describe three different data types.\n",
    "\n",
    "Ans : 1. String\n",
    "      2. Integer\n",
    "      3. Flot\n",
    "      4. Boolean\n",
    "      "
   ]
  },
  {
   "cell_type": "raw",
   "id": "093aa4a2",
   "metadata": {},
   "source": [
    "4. What is an expression made up of? What do all expressions do?\n",
    "\n",
    "Ans : Expression is an operator with the help of this we can perform some mathamatical operations.\n"
   ]
  },
  {
   "cell_type": "raw",
   "id": "6cd07e8b",
   "metadata": {},
   "source": [
    "5. This assignment statements, like spam = 10. What is the difference between an\n",
    "expression and a statement?\n",
    "\n",
    "Ans : Expression perform matamatical operation and gives us some resul.\n",
    "Assignment statement store the values here spam is a int variable which has value of 10."
   ]
  },
  {
   "cell_type": "raw",
   "id": "8c01b414",
   "metadata": {},
   "source": [
    "6. After running the following code, what does the variable bacon contain?\n",
    "bacon = 22\n",
    "bacon + 1\n",
    "\n",
    "\"bacon will contain 22 (integer)\"\n"
   ]
  },
  {
   "cell_type": "raw",
   "id": "c3edcd53",
   "metadata": {},
   "source": [
    "7. What should the values of the following two terms be?\n",
    "'spam' + 'spamspam'\n",
    "'spam'; * 3\n",
    "\n",
    "both will give same answer as 'spamspamspam'"
   ]
  },
  {
   "cell_type": "raw",
   "id": "e8de36d6",
   "metadata": {},
   "source": [
    "8. Why is eggs a valid variable name while 100 is invalid?\n",
    "\n",
    "\"100 is an int value and int value can't be used to define a variable name\""
   ]
  },
  {
   "cell_type": "raw",
   "id": "6700dcfc",
   "metadata": {},
   "source": [
    "9. What three functions can be used to get the integer, floating-point number, or string\n",
    "version of a value?\n",
    "\n",
    "int()\n",
    "str()\n",
    "float() "
   ]
  },
  {
   "cell_type": "raw",
   "id": "a702f203",
   "metadata": {},
   "source": [
    "10. Why does this expression cause an error? How can you fix it?\n",
    "'I have eaten' + 99 +  'burritos.'\n",
    "\n",
    "\n",
    "Ans : Here we are trying to add string with integer value it will throw an exception named as TypeError.\n",
    "Currect code is as below.\n",
    "'I have eaten' + '99' +  'burritos.'"
   ]
  }
 ],
 "metadata": {
  "kernelspec": {
   "display_name": "Python 3 (ipykernel)",
   "language": "python",
   "name": "python3"
  },
  "language_info": {
   "codemirror_mode": {
    "name": "ipython",
    "version": 3
   },
   "file_extension": ".py",
   "mimetype": "text/x-python",
   "name": "python",
   "nbconvert_exporter": "python",
   "pygments_lexer": "ipython3",
   "version": "3.9.12"
  }
 },
 "nbformat": 4,
 "nbformat_minor": 5
}
