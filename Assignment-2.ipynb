{
 "cells": [
  {
   "cell_type": "code",
   "execution_count": null,
   "id": "447463a7",
   "metadata": {},
   "outputs": [],
   "source": [
    "1.What are the two values of the Boolean data type? How do you write them?\n",
    "True  \n",
    "False"
   ]
  },
  {
   "cell_type": "code",
   "execution_count": null,
   "id": "1d9dc69e",
   "metadata": {},
   "outputs": [],
   "source": [
    "2. What are the three different types of Boolean operators?\n",
    "And &\n",
    "or |\n",
    "not !"
   ]
  },
  {
   "cell_type": "code",
   "execution_count": null,
   "id": "cacc31e7",
   "metadata": {},
   "outputs": [],
   "source": [
    "3. Make a list of each Boolean operators truth tables (i.e. every possible combination of Boolean\n",
    "values for the operator and what it evaluate ).\n",
    "A     B    result\n",
    "\n",
    "& operator                 \n",
    "True & True = True           \n",
    "True & False= False\n",
    "False & True= False\n",
    "False & False=False\n",
    "\n",
    " | operator\n",
    "True |  True = True           \n",
    "True |  False= True\n",
    "False | True = True\n",
    "False | False= False\n",
    "\n",
    "! operator\n",
    "!True = False\n",
    "!False = True"
   ]
  },
  {
   "cell_type": "code",
   "execution_count": null,
   "id": "ac09c7e2",
   "metadata": {},
   "outputs": [],
   "source": [
    "4. What are the values of the following expressions?\n",
    "(5 > 4) and (3 == 5) -> False\n",
    "not (5 > 4) -> False\n",
    "(5 > 4) or (3 == 5) -> True\n",
    "not ((5 > 4) or (3 == 5)) -> False\n",
    "(True and True) and (True == False) -> False\n",
    "(not False) or (not True) -> True"
   ]
  },
  {
   "cell_type": "code",
   "execution_count": null,
   "id": "21c2bddf",
   "metadata": {},
   "outputs": [],
   "source": [
    "5. What are the six comparison operators?\n",
    ">\n",
    "<\n",
    ">=\n",
    "<=\n",
    "==\n",
    "!="
   ]
  },
  {
   "cell_type": "code",
   "execution_count": null,
   "id": "fc08ce01",
   "metadata": {},
   "outputs": [],
   "source": [
    "6. How do you tell the difference between the equal to and assignment operators?Describe a\n",
    "condition and when you would use one.\n",
    "\"=\" is assignment operator\n",
    "\"==\" is equal to\n",
    "A = 5 (Assignment operator)\n",
    "B = 5 (Assignment operator)\n",
    "checking if A == B ( Equal to)"
   ]
  },
  {
   "cell_type": "code",
   "execution_count": null,
   "id": "f001b5c0",
   "metadata": {},
   "outputs": [],
   "source": [
    "7. Identify the three blocks in this code:\n",
    "spam = 0\n",
    "if spam == 10:\n",
    "    print('eggs')...... block 1\n",
    "if spam > 5:\n",
    "    print('bacon')..... block 2\n",
    "else:\n",
    "    print('ham')........block 3\n",
    "print('spam')\n",
    "print('spam')\n"
   ]
  },
  {
   "cell_type": "code",
   "execution_count": null,
   "id": "67289fbb",
   "metadata": {},
   "outputs": [],
   "source": [
    "8. Write code that prints Hello if 1 is stored in spam, prints Howdy if 2 is stored in spam, and prints\n",
    "Greetings! if anything else is stored in spam.\n",
    "spam = input()\n",
    "spam = int(spam)\n",
    "if spam == 1:\n",
    "    print('Hello')\n",
    "elif spam == 2:\n",
    "    print('Howdy')\n",
    "else:\n",
    "    print('Grettings!')"
   ]
  },
  {
   "cell_type": "code",
   "execution_count": null,
   "id": "97ced102",
   "metadata": {},
   "outputs": [],
   "source": [
    "9.If your programme is stuck in an endless loop, what keys you’ll press?\n",
    "ctrl+z"
   ]
  },
  {
   "cell_type": "code",
   "execution_count": null,
   "id": "bff60fb2",
   "metadata": {},
   "outputs": [],
   "source": [
    "10. How can you tell the difference between break and continue?\n",
    "break -> to break out from any loop\n",
    "continue -> to skip the line od code and move to teh next iterations"
   ]
  },
  {
   "cell_type": "code",
   "execution_count": null,
   "id": "bcb4053c",
   "metadata": {},
   "outputs": [],
   "source": [
    "11. In a for loop, what is the difference between range(10), range(0, 10), and range(0, 10, 1)?\n",
    "all are same \n",
    "range(start,end,jump) -> syntax"
   ]
  },
  {
   "cell_type": "code",
   "execution_count": null,
   "id": "57d5c7bd",
   "metadata": {},
   "outputs": [],
   "source": [
    "12. Write a short program that prints the numbers 1 to 10 using a for loop. Then write an equivalent\n",
    "program that prints the numbers 1 to 10 using a while loop.\n",
    "for i in range(11):\n",
    "    print(i)\n",
    "    \n",
    "i = 1;\n",
    "while(i<=10):\n",
    "    print(i)"
   ]
  },
  {
   "cell_type": "code",
   "execution_count": null,
   "id": "f0a6415b",
   "metadata": {},
   "outputs": [],
   "source": [
    "13. If you had a function named bacon() inside a module named spam, how would you call it after\n",
    "importing spam?\n",
    "\n",
    "spam.bacon()"
   ]
  }
 ],
 "metadata": {
  "kernelspec": {
   "display_name": "Python 3 (ipykernel)",
   "language": "python",
   "name": "python3"
  },
  "language_info": {
   "codemirror_mode": {
    "name": "ipython",
    "version": 3
   },
   "file_extension": ".py",
   "mimetype": "text/x-python",
   "name": "python",
   "nbconvert_exporter": "python",
   "pygments_lexer": "ipython3",
   "version": "3.9.12"
  }
 },
 "nbformat": 4,
 "nbformat_minor": 5
}
